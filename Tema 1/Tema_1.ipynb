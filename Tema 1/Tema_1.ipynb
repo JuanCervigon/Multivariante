{
  "nbformat": 4,
  "nbformat_minor": 0,
  "metadata": {
    "colab": {
      "provenance": [],
      "authorship_tag": "ABX9TyNJ+y7L+E14r51vOu2l6OP/",
      "include_colab_link": true
    },
    "kernelspec": {
      "name": "python3",
      "display_name": "Python 3"
    },
    "language_info": {
      "name": "python"
    }
  },
  "cells": [
    {
      "cell_type": "markdown",
      "metadata": {
        "id": "view-in-github",
        "colab_type": "text"
      },
      "source": [
        "<a href=\"https://colab.research.google.com/github/JuanCervigon/Multivariante/blob/main/Intro/Tema_1.ipynb\" target=\"_parent\"><img src=\"https://colab.research.google.com/assets/colab-badge.svg\" alt=\"Open In Colab\"/></a>"
      ]
    },
    {
      "cell_type": "markdown",
      "source": [
        "# Conceptos poblacionales y muestrales\n",
        "\n",
        "* Vectores y matrices aleatorias\n",
        "* Valores esperados\n",
        "* Distribuciones muestrales\n",
        "\n",
        "\n",
        "\n",
        "\n"
      ],
      "metadata": {
        "id": "PXivlN1dfLt8"
      }
    },
    {
      "cell_type": "code",
      "source": [
        "import numpy as np\n"
      ],
      "metadata": {
        "id": "2RuAYzwfiegd"
      },
      "execution_count": null,
      "outputs": []
    },
    {
      "cell_type": "code",
      "source": [
        "# Vectores y matrices aleatorios con Numpy\n",
        "# https://numpy.org/doc/stable/reference/random/index.html#\n",
        "\n",
        "from numpy.random import default_rng\n",
        "genera = default_rng(seed=1)\n",
        "vector_aleatorio = genera.standard_normal((10,3))\n",
        "vector_aleatorio"
      ],
      "metadata": {
        "colab": {
          "base_uri": "https://localhost:8080/"
        },
        "id": "OkRr-6zBinmy",
        "outputId": "66786c76-40e2-4e0c-d795-9704c2f1313c"
      },
      "execution_count": null,
      "outputs": [
        {
          "output_type": "execute_result",
          "data": {
            "text/plain": [
              "array([[ 0.34558419,  0.82161814,  0.33043708],\n",
              "       [-1.30315723,  0.90535587,  0.44637457],\n",
              "       [-0.53695324,  0.5811181 ,  0.3645724 ],\n",
              "       [ 0.2941325 ,  0.02842224,  0.54671299],\n",
              "       [-0.73645409, -0.16290995, -0.48211931],\n",
              "       [ 0.59884621,  0.03972211, -0.29245675],\n",
              "       [-0.78190846, -0.25719224,  0.00814218],\n",
              "       [-0.27560291,  1.29406381,  1.00672432],\n",
              "       [-2.71116248, -1.88901325, -0.17477209],\n",
              "       [-0.42219041,  0.213643  ,  0.21732193]])"
            ]
          },
          "metadata": {},
          "execution_count": 52
        }
      ]
    },
    {
      "cell_type": "code",
      "source": [
        "type(vector_aleatorio)"
      ],
      "metadata": {
        "colab": {
          "base_uri": "https://localhost:8080/"
        },
        "id": "El4gHcDpjmow",
        "outputId": "2713e5eb-3bbc-4686-8cca-e231c2e10d52"
      },
      "execution_count": null,
      "outputs": [
        {
          "output_type": "execute_result",
          "data": {
            "text/plain": [
              "numpy.ndarray"
            ]
          },
          "metadata": {},
          "execution_count": 31
        }
      ]
    },
    {
      "cell_type": "code",
      "source": [
        "vector_normal=genera.normal(5,1,3)"
      ],
      "metadata": {
        "id": "ksZoDnK1oG9a"
      },
      "execution_count": null,
      "outputs": []
    },
    {
      "cell_type": "markdown",
      "source": [
        "# Valores esperados\n"
      ],
      "metadata": {
        "id": "S4Y7ARCM3y2A"
      }
    },
    {
      "cell_type": "code",
      "source": [
        "np.mean(vector_aleatorio,axis=1)"
      ],
      "metadata": {
        "colab": {
          "base_uri": "https://localhost:8080/"
        },
        "id": "H6TFvhbXtJ7Q",
        "outputId": "16257ce1-c1ea-4e16-9391-775099c70401"
      },
      "execution_count": null,
      "outputs": [
        {
          "output_type": "execute_result",
          "data": {
            "text/plain": [
              "array([ 0.49921314,  0.01619107,  0.13624576,  0.28975591, -0.46049445,\n",
              "        0.11537052, -0.34365284,  0.67506174, -1.59164927,  0.00292484])"
            ]
          },
          "metadata": {},
          "execution_count": 54
        }
      ]
    },
    {
      "cell_type": "markdown",
      "source": [
        "# Distribuciones muestrales\n",
        "\n",
        "A partir de una población extraemos una muestra y analizamos la distribución de la muestra. Por la ley de los grandes número sabemos que si la muestra es suficientemente grande, entonces tiene una distribución igual a la distribución de la población\n"
      ],
      "metadata": {
        "id": "Ai-1Uio9376X"
      }
    },
    {
      "cell_type": "code",
      "source": [
        "# Sacar una muestra de una población y hacer un histograma"
      ],
      "metadata": {
        "id": "eKJ2NeIO4eMT"
      },
      "execution_count": null,
      "outputs": []
    },
    {
      "cell_type": "code",
      "source": [
        "vector_normal"
      ],
      "metadata": {
        "colab": {
          "base_uri": "https://localhost:8080/"
        },
        "id": "YFxsW12_r3Kf",
        "outputId": "2b63179b-68dc-41d7-bb4c-8a9f96f8b3c7"
      },
      "execution_count": null,
      "outputs": [
        {
          "output_type": "execute_result",
          "data": {
            "text/plain": [
              "array([5.646703  , 5.66306337, 4.48599363])"
            ]
          },
          "metadata": {},
          "execution_count": 50
        }
      ]
    },
    {
      "cell_type": "code",
      "source": [
        "# Multivariante normal\n",
        "mean = [0, 0]\n",
        "cov = [[1, 0], [0, 1]]\n",
        "import matplotlib.pyplot as plt\n",
        "x, y = genera.multivariate_normal(mean, cov, 5000).T\n",
        "# x, y = np.random.default_rng().multivariate_normal(mean, cov, 5000)\n",
        "plt.plot(x, y, 'x')\n",
        "plt.axis('equal')\n",
        "plt.show()\n"
      ],
      "metadata": {
        "colab": {
          "base_uri": "https://localhost:8080/",
          "height": 265
        },
        "id": "bdMgJgDOsNEU",
        "outputId": "8ee63d80-6453-4a44-c2ff-5ff15d3b276a"
      },
      "execution_count": null,
      "outputs": [
        {
          "output_type": "display_data",
          "data": {
            "text/plain": [
              "<Figure size 432x288 with 1 Axes>"
            ],
            "image/png": "[encoded data removed]"
          },
          "metadata": {
            "needs_background": "light"
          }
        }
      ]
    },
    {
      "cell_type": "code",
      "source": [],
      "metadata": {
        "id": "zn6QRXJNsmYm"
      },
      "execution_count": null,
      "outputs": []
    }
  ]
}
